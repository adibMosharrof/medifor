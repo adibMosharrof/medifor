{
 "cells": [
  {
   "cell_type": "code",
   "execution_count": 4,
   "metadata": {},
   "outputs": [],
   "source": [
    "from IPython.core.debugger import set_trace\n",
    "import os\n",
    "class Metrics(object):\n",
    "    data_path = \"data/metrics/\"\n",
    "    def start(self):\n",
    "        data = self.read_data(data_path)\n",
    "        \n",
    "class MediforData():\n",
    "    ref_mask = None\n",
    "    sys_mask = None\n",
    "    \n",
    "    def __init__(self, ref, sys):\n",
    "        self.ref_mask = ref\n",
    "        self.sys_mask = sys\n",
    "    "
   ]
  },
  {
   "cell_type": "code",
   "execution_count": 5,
   "metadata": {},
   "outputs": [
    {
     "ename": "SyntaxError",
     "evalue": "invalid syntax (<ipython-input-5-b740dec443b5>, line 6)",
     "output_type": "error",
     "traceback": [
      "\u001b[1;36m  File \u001b[1;32m\"<ipython-input-5-b740dec443b5>\"\u001b[1;36m, line \u001b[1;32m6\u001b[0m\n\u001b[1;33m    return data\u001b[0m\n\u001b[1;37m         ^\u001b[0m\n\u001b[1;31mSyntaxError\u001b[0m\u001b[1;31m:\u001b[0m invalid syntax\n"
     ]
    }
   ],
   "source": [
    "def read_data(self):\n",
    "    folders = self._get_folders()\n",
    "    data = []\n",
    "    for folder in folders:\n",
    "        data.append(MediforData(get_images(folder))\n",
    "    return data    \n",
    "\n",
    "        \n",
    "def _get_folders(self, directory):\n",
    "    subfolders = [f.path for f in os.scandir(directory) if f.is_dir() ]\n",
    "    print(subfolders)\n",
    "    return None\n",
    "                    \n",
    "Metrics.read_data = read_data\n",
    "Metrics._get_folders = _get_folders \n",
    "Metrics.start = start\n",
    "metric = Metrics()\n",
    "metric.start()"
   ]
  },
  {
   "cell_type": "code",
   "execution_count": 13,
   "metadata": {},
   "outputs": [
    {
     "name": "stdout",
     "output_type": "stream",
     "text": [
      "22.3 µs ± 1.81 µs per loop (mean ± std. dev. of 7 runs, 10000 loops each)\n"
     ]
    }
   ],
   "source": [
    "%%timeit\n",
    "import numpy as np\n",
    "\n",
    "result = np.random.randint(255, size=(50, 50))\n",
    "result = np.where(result == 255, 0 , result)\n",
    "result = np.where(result == 510, 255 , result)"
   ]
  },
  {
   "cell_type": "code",
   "execution_count": 35,
   "metadata": {},
   "outputs": [
    {
     "name": "stdout",
     "output_type": "stream",
     "text": [
      "[[ 24 110 246 228]\n",
      " [ 43 109 251  40]\n",
      " [141 109 248 113]\n",
      " [ 44 143 190  34]]\n",
      "[110 109 251 141]\n"
     ]
    }
   ],
   "source": [
    "#%%timeit\n",
    "import numpy as np\n",
    "\n",
    "result = np.random.randint(255, size=(4, 4))\n",
    "print(result)\n",
    "flat = result.ravel()\n",
    "indexes = np.array([1,5,6,8])\n",
    "filtered = flat[indexes]\n",
    "print(filtered)"
   ]
  },
  {
   "cell_type": "code",
   "execution_count": null,
   "metadata": {},
   "outputs": [],
   "source": []
  }
 ],
 "metadata": {
  "kernelspec": {
   "display_name": "Python 3",
   "language": "python",
   "name": "python3"
  },
  "language_info": {
   "codemirror_mode": {
    "name": "ipython",
    "version": 3
   },
   "file_extension": ".py",
   "mimetype": "text/x-python",
   "name": "python",
   "nbconvert_exporter": "python",
   "pygments_lexer": "ipython3",
   "version": "3.6.8"
  }
 },
 "nbformat": 4,
 "nbformat_minor": 2
}
