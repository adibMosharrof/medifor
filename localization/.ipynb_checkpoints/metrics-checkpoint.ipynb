{
 "cells": [
  {
   "cell_type": "code",
   "execution_count": 2,
   "metadata": {},
   "outputs": [],
   "source": [
    "from IPython.core.debugger import set_trace\n",
    "import os\n",
    "class Metrics(object):\n",
    "    data_path = \"data/metrics/\"\n",
    "    def start(self):\n",
    "        data = self.read_data(data_path)\n",
    "        \n",
    "class MediforData():\n",
    "    ref_mask = None\n",
    "    sys_mask = None\n",
    "    \n",
    "    def __init__(self, ref, sys):\n",
    "        self.ref_mask = ref\n",
    "        self.sys_mask = sys\n",
    "    "
   ]
  },
  {
   "cell_type": "code",
   "execution_count": null,
   "metadata": {},
   "outputs": [],
   "source": [
    "def read_data(self):\n",
    "    folders = self._get_folders()\n",
    "    data = []\n",
    "    for folder in folders:\n",
    "        data.append(MediforData(get_images(folder))\n",
    "    return data    \n",
    "\n",
    "        \n",
    "def _get_folders(self, directory):\n",
    "    subfolders = [f.path for f in os.scandir(directory) if f.is_dir() ] \n",
    "    return None\n",
    "                    \n",
    "Metrics.read_data = read_data\n",
    "Metrics._get_folders = _get_folders \n",
    "Metrics.start = start\n",
    "metric = Metrics()\n",
    "metric.start()"
   ]
  }
 ],
 "metadata": {
  "kernelspec": {
   "display_name": "Python 3",
   "language": "python",
   "name": "python3"
  }
 },
 "nbformat": 4,
 "nbformat_minor": 2
}
